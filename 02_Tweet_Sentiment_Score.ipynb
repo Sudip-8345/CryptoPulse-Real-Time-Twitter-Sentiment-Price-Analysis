{
 "cells": [
  {
   "cell_type": "markdown",
   "metadata": {},
   "source": [
    "# Split the clean.csv file into multiple files. Compute VADER sentiment and score"
   ]
  },
  {
   "cell_type": "code",
   "execution_count": 1,
   "metadata": {},
   "outputs": [],
   "source": [
    "import pandas as pd\n",
    "from vaderSentiment.vaderSentiment import SentimentIntensityAnalyzer\n",
    "from tqdm import tnrange, tqdm_notebook, tqdm\n",
    "\n",
    "# Define the currency\n",
    "CURRENCY = \"\" #cardano, bitcoincash\n",
    "CURRENCY_SYMBOL = \"\" #ADA, BCH\n",
    "tweets_clean_file = 'data/twitter/%s/%s_tweets_clean.csv'%(CURRENCY_SYMBOL,CURRENCY)\n",
    "path = 'data/twitter/%s'%(CURRENCY_SYMBOL) #/{CURRENCY}_tweets_clean.csv'\n"
   ]
  },
  {
   "cell_type": "markdown",
   "metadata": {},
   "source": [
    "## Read the cleaned file"
   ]
  },
  {
   "cell_type": "code",
   "execution_count": 2,
   "metadata": {},
   "outputs": [
    {
     "name": "stdout",
     "output_type": "stream",
     "text": [
      "(110217, 7)\n"
     ]
    },
    {
     "data": {
      "text/html": [
       "<div>\n",
       "<style scoped>\n",
       "    .dataframe tbody tr th:only-of-type {\n",
       "        vertical-align: middle;\n",
       "    }\n",
       "\n",
       "    .dataframe tbody tr th {\n",
       "        vertical-align: top;\n",
       "    }\n",
       "\n",
       "    .dataframe thead th {\n",
       "        text-align: right;\n",
       "    }\n",
       "</style>\n",
       "<table border=\"1\" class=\"dataframe\">\n",
       "  <thead>\n",
       "    <tr style=\"text-align: right;\">\n",
       "      <th></th>\n",
       "      <th>ID</th>\n",
       "      <th>Text</th>\n",
       "      <th>UserName</th>\n",
       "      <th>UserFollowerCount</th>\n",
       "      <th>RetweetCount</th>\n",
       "      <th>Likes</th>\n",
       "      <th>CreatedAt</th>\n",
       "    </tr>\n",
       "  </thead>\n",
       "  <tbody>\n",
       "    <tr>\n",
       "      <td>0</td>\n",
       "      <td>1424255322978410502</td>\n",
       "      <td>RT : I'm giving away 500 $ADA worth ($700) to ...</td>\n",
       "      <td>Chris Naylor #CSC #XRP #ADA #XVG</td>\n",
       "      <td>48</td>\n",
       "      <td>283</td>\n",
       "      <td>0</td>\n",
       "      <td>Sun Aug 08 06:25:05 +0000 2021</td>\n",
       "    </tr>\n",
       "    <tr>\n",
       "      <td>1</td>\n",
       "      <td>1424255311309856776</td>\n",
       "      <td>Bitcoin Price Breaks $44k Level ! Massive BTC ...</td>\n",
       "      <td>COIN MINERS</td>\n",
       "      <td>2692</td>\n",
       "      <td>0</td>\n",
       "      <td>0</td>\n",
       "      <td>Sun Aug 08 06:25:02 +0000 2021</td>\n",
       "    </tr>\n",
       "    <tr>\n",
       "      <td>2</td>\n",
       "      <td>1424255285019938820</td>\n",
       "      <td>Crypto ETHADANew stars shining very soon.. It'...</td>\n",
       "      <td>Raul</td>\n",
       "      <td>49</td>\n",
       "      <td>0</td>\n",
       "      <td>0</td>\n",
       "      <td>Sun Aug 08 06:24:55 +0000 2021</td>\n",
       "    </tr>\n",
       "    <tr>\n",
       "      <td>3</td>\n",
       "      <td>1424255261154455554</td>\n",
       "      <td>Crypto ETHADANew stars shining very soon.. It'...</td>\n",
       "      <td>Raul</td>\n",
       "      <td>49</td>\n",
       "      <td>0</td>\n",
       "      <td>0</td>\n",
       "      <td>Sun Aug 08 06:24:50 +0000 2021</td>\n",
       "    </tr>\n",
       "    <tr>\n",
       "      <td>4</td>\n",
       "      <td>1424255257522049025</td>\n",
       "      <td>RT : Cardano $ADA just saw a 46% gain over 18 ...</td>\n",
       "      <td>Oscar Garcia</td>\n",
       "      <td>5888</td>\n",
       "      <td>13</td>\n",
       "      <td>0</td>\n",
       "      <td>Sun Aug 08 06:24:49 +0000 2021</td>\n",
       "    </tr>\n",
       "  </tbody>\n",
       "</table>\n",
       "</div>"
      ],
      "text/plain": [
       "                    ID                                               Text  \\\n",
       "0  1424255322978410502  RT : I'm giving away 500 $ADA worth ($700) to ...   \n",
       "1  1424255311309856776  Bitcoin Price Breaks $44k Level ! Massive BTC ...   \n",
       "2  1424255285019938820  Crypto ETHADANew stars shining very soon.. It'...   \n",
       "3  1424255261154455554  Crypto ETHADANew stars shining very soon.. It'...   \n",
       "4  1424255257522049025  RT : Cardano $ADA just saw a 46% gain over 18 ...   \n",
       "\n",
       "                           UserName  UserFollowerCount  RetweetCount  Likes  \\\n",
       "0  Chris Naylor #CSC #XRP #ADA #XVG                 48           283      0   \n",
       "1                       COIN MINERS               2692             0      0   \n",
       "2                              Raul                 49             0      0   \n",
       "3                              Raul                 49             0      0   \n",
       "4                      Oscar Garcia               5888            13      0   \n",
       "\n",
       "                        CreatedAt  \n",
       "0  Sun Aug 08 06:25:05 +0000 2021  \n",
       "1  Sun Aug 08 06:25:02 +0000 2021  \n",
       "2  Sun Aug 08 06:24:55 +0000 2021  \n",
       "3  Sun Aug 08 06:24:50 +0000 2021  \n",
       "4  Sun Aug 08 06:24:49 +0000 2021  "
      ]
     },
     "execution_count": 2,
     "metadata": {},
     "output_type": "execute_result"
    }
   ],
   "source": [
    "df_clean = pd.read_csv(tweets_clean_file,low_memory=False)\n",
    "print(df_clean.shape)\n",
    "df_clean.head(5)"
   ]
  },
  {
   "cell_type": "markdown",
   "metadata": {},
   "source": [
    "# Exploratory Data Analysis"
   ]
  },
  {
   "cell_type": "code",
   "execution_count": 3,
   "metadata": {},
   "outputs": [],
   "source": [
    "df_clean = df_clean.sort_values(by='ID') # the bigger the ID, the most recent the tweet "
   ]
  },
  {
   "cell_type": "markdown",
   "metadata": {},
   "source": [
    "Firstly, we will check the features present in our data and then we will look at their data types."
   ]
  },
  {
   "cell_type": "code",
   "execution_count": 4,
   "metadata": {},
   "outputs": [
    {
     "data": {
      "text/plain": [
       "Index(['ID', 'Text', 'UserName', 'UserFollowerCount', 'RetweetCount', 'Likes',\n",
       "       'CreatedAt'],\n",
       "      dtype='object')"
      ]
     },
     "execution_count": 4,
     "metadata": {},
     "output_type": "execute_result"
    }
   ],
   "source": [
    "df_clean.columns"
   ]
  },
  {
   "cell_type": "code",
   "execution_count": 5,
   "metadata": {},
   "outputs": [
    {
     "name": "stdout",
     "output_type": "stream",
     "text": [
      "<class 'pandas.core.frame.DataFrame'>\n",
      "Int64Index: 110217 entries, 110216 to 0\n",
      "Data columns (total 7 columns):\n",
      "ID                   110217 non-null int64\n",
      "Text                 110217 non-null object\n",
      "UserName             110215 non-null object\n",
      "UserFollowerCount    110217 non-null int64\n",
      "RetweetCount         110217 non-null int64\n",
      "Likes                110217 non-null int64\n",
      "CreatedAt            110217 non-null object\n",
      "dtypes: int64(4), object(3)\n",
      "memory usage: 6.7+ MB\n"
     ]
    }
   ],
   "source": [
    "df_clean.info()"
   ]
  },
  {
   "cell_type": "code",
   "execution_count": 6,
   "metadata": {},
   "outputs": [
    {
     "data": {
      "text/html": [
       "<div>\n",
       "<style scoped>\n",
       "    .dataframe tbody tr th:only-of-type {\n",
       "        vertical-align: middle;\n",
       "    }\n",
       "\n",
       "    .dataframe tbody tr th {\n",
       "        vertical-align: top;\n",
       "    }\n",
       "\n",
       "    .dataframe thead th {\n",
       "        text-align: right;\n",
       "    }\n",
       "</style>\n",
       "<table border=\"1\" class=\"dataframe\">\n",
       "  <thead>\n",
       "    <tr style=\"text-align: right;\">\n",
       "      <th></th>\n",
       "      <th>ID</th>\n",
       "      <th>UserFollowerCount</th>\n",
       "      <th>RetweetCount</th>\n",
       "      <th>Likes</th>\n",
       "    </tr>\n",
       "  </thead>\n",
       "  <tbody>\n",
       "    <tr>\n",
       "      <td>count</td>\n",
       "      <td>1.102170e+05</td>\n",
       "      <td>1.102170e+05</td>\n",
       "      <td>110217.000000</td>\n",
       "      <td>110217.000000</td>\n",
       "    </tr>\n",
       "    <tr>\n",
       "      <td>mean</td>\n",
       "      <td>1.422829e+18</td>\n",
       "      <td>1.484355e+03</td>\n",
       "      <td>500.729080</td>\n",
       "      <td>2.497283</td>\n",
       "    </tr>\n",
       "    <tr>\n",
       "      <td>std</td>\n",
       "      <td>8.680134e+14</td>\n",
       "      <td>1.464951e+04</td>\n",
       "      <td>1050.463923</td>\n",
       "      <td>45.952969</td>\n",
       "    </tr>\n",
       "    <tr>\n",
       "      <td>min</td>\n",
       "      <td>1.421296e+18</td>\n",
       "      <td>0.000000e+00</td>\n",
       "      <td>0.000000</td>\n",
       "      <td>0.000000</td>\n",
       "    </tr>\n",
       "    <tr>\n",
       "      <td>25%</td>\n",
       "      <td>1.422033e+18</td>\n",
       "      <td>3.500000e+01</td>\n",
       "      <td>1.000000</td>\n",
       "      <td>0.000000</td>\n",
       "    </tr>\n",
       "    <tr>\n",
       "      <td>50%</td>\n",
       "      <td>1.422915e+18</td>\n",
       "      <td>1.290000e+02</td>\n",
       "      <td>20.000000</td>\n",
       "      <td>0.000000</td>\n",
       "    </tr>\n",
       "    <tr>\n",
       "      <td>75%</td>\n",
       "      <td>1.423588e+18</td>\n",
       "      <td>4.990000e+02</td>\n",
       "      <td>409.000000</td>\n",
       "      <td>0.000000</td>\n",
       "    </tr>\n",
       "    <tr>\n",
       "      <td>max</td>\n",
       "      <td>1.424255e+18</td>\n",
       "      <td>2.327132e+06</td>\n",
       "      <td>12084.000000</td>\n",
       "      <td>5823.000000</td>\n",
       "    </tr>\n",
       "  </tbody>\n",
       "</table>\n",
       "</div>"
      ],
      "text/plain": [
       "                 ID  UserFollowerCount   RetweetCount          Likes\n",
       "count  1.102170e+05       1.102170e+05  110217.000000  110217.000000\n",
       "mean   1.422829e+18       1.484355e+03     500.729080       2.497283\n",
       "std    8.680134e+14       1.464951e+04    1050.463923      45.952969\n",
       "min    1.421296e+18       0.000000e+00       0.000000       0.000000\n",
       "25%    1.422033e+18       3.500000e+01       1.000000       0.000000\n",
       "50%    1.422915e+18       1.290000e+02      20.000000       0.000000\n",
       "75%    1.423588e+18       4.990000e+02     409.000000       0.000000\n",
       "max    1.424255e+18       2.327132e+06   12084.000000    5823.000000"
      ]
     },
     "execution_count": 6,
     "metadata": {},
     "output_type": "execute_result"
    }
   ],
   "source": [
    "df_clean.describe()"
   ]
  },
  {
   "cell_type": "code",
   "execution_count": 8,
   "metadata": {
    "scrolled": true
   },
   "outputs": [
    {
     "data": {
      "text/plain": [
       "ID                    int64\n",
       "Text                 object\n",
       "UserName             object\n",
       "UserFollowerCount     int64\n",
       "RetweetCount          int64\n",
       "Likes                 int64\n",
       "CreatedAt            object\n",
       "dtype: object"
      ]
     },
     "execution_count": 8,
     "metadata": {},
     "output_type": "execute_result"
    }
   ],
   "source": [
    "#print the dattypes for each variable\n",
    "df_clean.dtypes"
   ]
  },
  {
   "cell_type": "markdown",
   "metadata": {},
   "source": [
    "- **object**: Object format means variables are categorical. \n",
    "- **float64:** It represents the variable which have some decimal values involved. \n",
    "- **int64:** It represents the integer variables."
   ]
  },
  {
   "cell_type": "code",
   "execution_count": null,
   "metadata": {},
   "outputs": [],
   "source": []
  },
  {
   "cell_type": "code",
   "execution_count": 9,
   "metadata": {},
   "outputs": [
    {
     "data": {
      "text/plain": [
       "True"
      ]
     },
     "execution_count": 9,
     "metadata": {},
     "output_type": "execute_result"
    }
   ],
   "source": [
    "#check for NaN in entire dataframe\n",
    "\n",
    "df_clean.isnull().values.any()"
   ]
  },
  {
   "cell_type": "code",
   "execution_count": 10,
   "metadata": {},
   "outputs": [
    {
     "data": {
      "text/plain": [
       "2"
      ]
     },
     "execution_count": 10,
     "metadata": {},
     "output_type": "execute_result"
    }
   ],
   "source": [
    "# count the NaN values\n",
    "\n",
    "df_clean.isnull().sum().sum()"
   ]
  },
  {
   "cell_type": "code",
   "execution_count": 11,
   "metadata": {},
   "outputs": [],
   "source": [
    "#drop the NaN value rowa\n",
    "df_clean = df_clean.dropna()"
   ]
  },
  {
   "cell_type": "code",
   "execution_count": 12,
   "metadata": {},
   "outputs": [
    {
     "data": {
      "text/plain": [
       "(110215, 7)"
      ]
     },
     "execution_count": 12,
     "metadata": {},
     "output_type": "execute_result"
    }
   ],
   "source": [
    "#size of data frame after dropping the NaN values\n",
    "df_clean.shape"
   ]
  },
  {
   "cell_type": "code",
   "execution_count": null,
   "metadata": {},
   "outputs": [],
   "source": []
  },
  {
   "cell_type": "markdown",
   "metadata": {},
   "source": [
    "## Sentiment analysis with Vader\n",
    "\n",
    "VADER (Valence Aware Dictionary and sEntiment Reasoner) is a lexicon and rule-based sentiment analysis tool that is specifically attuned to sentiments expressed in social media.\n",
    "\n",
    "VADER takes into account \n",
    "- negations and contractions (not good, wasn’t good)\n",
    "- Punctuation (good!!!), CAPS, emotes :), emojis \n",
    "- Intensificators (very, kind of), acronyms ‘lol’\n",
    "- Scores between -1.0 (negative) and 1.0 (positive)\n",
    "\n",
    "We will use this sentiment analysis of the tweets to calculate a score that will represent the importance of each tweet."
   ]
  },
  {
   "cell_type": "code",
   "execution_count": 13,
   "metadata": {},
   "outputs": [
    {
     "name": "stderr",
     "output_type": "stream",
     "text": [
      "100%|████████████████████████████████████████████████████████████████████████| 110215/110215 [00:23<00:00, 4623.78it/s]\n"
     ]
    },
    {
     "data": {
      "text/html": [
       "<div>\n",
       "<style scoped>\n",
       "    .dataframe tbody tr th:only-of-type {\n",
       "        vertical-align: middle;\n",
       "    }\n",
       "\n",
       "    .dataframe tbody tr th {\n",
       "        vertical-align: top;\n",
       "    }\n",
       "\n",
       "    .dataframe thead th {\n",
       "        text-align: right;\n",
       "    }\n",
       "</style>\n",
       "<table border=\"1\" class=\"dataframe\">\n",
       "  <thead>\n",
       "    <tr style=\"text-align: right;\">\n",
       "      <th></th>\n",
       "      <th>ID</th>\n",
       "      <th>Text</th>\n",
       "      <th>UserName</th>\n",
       "      <th>UserFollowerCount</th>\n",
       "      <th>RetweetCount</th>\n",
       "      <th>Likes</th>\n",
       "      <th>CreatedAt</th>\n",
       "      <th>compound</th>\n",
       "    </tr>\n",
       "  </thead>\n",
       "  <tbody>\n",
       "    <tr>\n",
       "      <td>110216</td>\n",
       "      <td>1421296095452450819</td>\n",
       "      <td>I sold all NFTs coins, profit was pretty good....</td>\n",
       "      <td>Megalodon</td>\n",
       "      <td>156</td>\n",
       "      <td>0</td>\n",
       "      <td>4</td>\n",
       "      <td>Sat Jul 31 02:26:10 +0000 2021</td>\n",
       "      <td>0.945</td>\n",
       "    </tr>\n",
       "    <tr>\n",
       "      <td>110215</td>\n",
       "      <td>1421296095452450819</td>\n",
       "      <td>I sold all NFTs coins, profit was pretty good....</td>\n",
       "      <td>Megalodon</td>\n",
       "      <td>156</td>\n",
       "      <td>0</td>\n",
       "      <td>4</td>\n",
       "      <td>Sat Jul 31 02:26:10 +0000 2021</td>\n",
       "      <td>0.945</td>\n",
       "    </tr>\n",
       "  </tbody>\n",
       "</table>\n",
       "</div>"
      ],
      "text/plain": [
       "                         ID  \\\n",
       "110216  1421296095452450819   \n",
       "110215  1421296095452450819   \n",
       "\n",
       "                                                     Text   UserName  \\\n",
       "110216  I sold all NFTs coins, profit was pretty good....  Megalodon   \n",
       "110215  I sold all NFTs coins, profit was pretty good....  Megalodon   \n",
       "\n",
       "        UserFollowerCount  RetweetCount  Likes  \\\n",
       "110216                156             0      4   \n",
       "110215                156             0      4   \n",
       "\n",
       "                             CreatedAt  compound  \n",
       "110216  Sat Jul 31 02:26:10 +0000 2021     0.945  \n",
       "110215  Sat Jul 31 02:26:10 +0000 2021     0.945  "
      ]
     },
     "execution_count": 13,
     "metadata": {},
     "output_type": "execute_result"
    }
   ],
   "source": [
    "analyzer = SentimentIntensityAnalyzer()\n",
    "compound = []\n",
    "for i,s in enumerate(tqdm(df_clean['Text'])):\n",
    "    vs = analyzer.polarity_scores(s)\n",
    "    compound.append(vs[\"compound\"])\n",
    "df_clean[\"compound\"] = compound\n",
    "df_clean.head(2)"
   ]
  },
  {
   "cell_type": "markdown",
   "metadata": {},
   "source": [
    "## Calculate a score for each tweet\n",
    "\n",
    "To calculate the score for each tweet, we use different variables to which we had a weight based on its importance.\n",
    "\n",
    "The compound column represents the sentiment of the tweets and its value is between -1 and 1.\n",
    "\n",
    "We also use the number of retweets, the number of likes, and the number of users that follow the tweet's author."
   ]
  },
  {
   "cell_type": "code",
   "execution_count": 14,
   "metadata": {},
   "outputs": [
    {
     "name": "stderr",
     "output_type": "stream",
     "text": [
      "100%|████████████████████████████████████████████████████████████████████████| 110215/110215 [00:18<00:00, 5953.25it/s]\n"
     ]
    },
    {
     "data": {
      "text/html": [
       "<div>\n",
       "<style scoped>\n",
       "    .dataframe tbody tr th:only-of-type {\n",
       "        vertical-align: middle;\n",
       "    }\n",
       "\n",
       "    .dataframe tbody tr th {\n",
       "        vertical-align: top;\n",
       "    }\n",
       "\n",
       "    .dataframe thead th {\n",
       "        text-align: right;\n",
       "    }\n",
       "</style>\n",
       "<table border=\"1\" class=\"dataframe\">\n",
       "  <thead>\n",
       "    <tr style=\"text-align: right;\">\n",
       "      <th></th>\n",
       "      <th>ID</th>\n",
       "      <th>Text</th>\n",
       "      <th>UserName</th>\n",
       "      <th>UserFollowerCount</th>\n",
       "      <th>RetweetCount</th>\n",
       "      <th>Likes</th>\n",
       "      <th>CreatedAt</th>\n",
       "      <th>compound</th>\n",
       "      <th>score</th>\n",
       "    </tr>\n",
       "  </thead>\n",
       "  <tbody>\n",
       "    <tr>\n",
       "      <td>110216</td>\n",
       "      <td>1421296095452450819</td>\n",
       "      <td>I sold all NFTs coins, profit was pretty good....</td>\n",
       "      <td>Megalodon</td>\n",
       "      <td>156</td>\n",
       "      <td>0</td>\n",
       "      <td>4</td>\n",
       "      <td>Sat Jul 31 02:26:10 +0000 2021</td>\n",
       "      <td>0.945</td>\n",
       "      <td>737.1</td>\n",
       "    </tr>\n",
       "    <tr>\n",
       "      <td>110215</td>\n",
       "      <td>1421296095452450819</td>\n",
       "      <td>I sold all NFTs coins, profit was pretty good....</td>\n",
       "      <td>Megalodon</td>\n",
       "      <td>156</td>\n",
       "      <td>0</td>\n",
       "      <td>4</td>\n",
       "      <td>Sat Jul 31 02:26:10 +0000 2021</td>\n",
       "      <td>0.945</td>\n",
       "      <td>737.1</td>\n",
       "    </tr>\n",
       "  </tbody>\n",
       "</table>\n",
       "</div>"
      ],
      "text/plain": [
       "                         ID  \\\n",
       "110216  1421296095452450819   \n",
       "110215  1421296095452450819   \n",
       "\n",
       "                                                     Text   UserName  \\\n",
       "110216  I sold all NFTs coins, profit was pretty good....  Megalodon   \n",
       "110215  I sold all NFTs coins, profit was pretty good....  Megalodon   \n",
       "\n",
       "        UserFollowerCount  RetweetCount  Likes  \\\n",
       "110216                156             0      4   \n",
       "110215                156             0      4   \n",
       "\n",
       "                             CreatedAt  compound  score  \n",
       "110216  Sat Jul 31 02:26:10 +0000 2021     0.945  737.1  \n",
       "110215  Sat Jul 31 02:26:10 +0000 2021     0.945  737.1  "
      ]
     },
     "execution_count": 14,
     "metadata": {},
     "output_type": "execute_result"
    }
   ],
   "source": [
    "scores = []\n",
    "for i, s in tqdm(df_clean.iterrows(), total=df_clean.shape[0]):\n",
    "    scores.append(s[\"compound\"] * ((int(s[\"UserFollowerCount\"]))) * ((int(s[\"Likes\"])+1)) *((int(s[\"RetweetCount\"])+1)))\n",
    "df_clean[\"score\"] = scores\n",
    "df_clean.head(2)"
   ]
  },
  {
   "cell_type": "markdown",
   "metadata": {},
   "source": [
    "## Split dataframe and save it into multiple files"
   ]
  },
  {
   "cell_type": "code",
   "execution_count": 15,
   "metadata": {},
   "outputs": [],
   "source": [
    "from datetime import datetime"
   ]
  },
  {
   "cell_type": "code",
   "execution_count": 16,
   "metadata": {},
   "outputs": [
    {
     "name": "stdout",
     "output_type": "stream",
     "text": [
      "2021-07-31 02-26-10 2021-08-01 11-09-24\n",
      "2021-08-01 11-09-44 2021-08-03 08-12-58\n",
      "2021-08-03 08-13-42 2021-08-04 21-42-50\n",
      "2021-08-04 21-42-55 2021-08-06 06-32-49\n",
      "2021-08-06 06-32-51 2021-08-07 12-09-40\n",
      "2021-08-07 12-09-40 2021-08-08 06-25-05\n"
     ]
    }
   ],
   "source": [
    "n = 20000  #chunk row size\n",
    "chunks_df = [df_clean[i:i+n] for i in range(0,df_clean.shape[0],n)]\n",
    "\n",
    "sep_char = '~'\n",
    "for chunk_df in chunks_df:\n",
    "    chunk_min = chunk_df['ID'].min()\n",
    "    chunk_max = chunk_df['ID'].max()\n",
    "    date_from = (datetime.strptime(chunk_df.iloc[0]['CreatedAt'], '%a %b %d %X %z %Y')).strftime('%Y-%m-%d %H-%M-%S')\n",
    "    date_to = (datetime.strptime(chunk_df.iloc[-1]['CreatedAt'], '%a %b %d %X %z %Y')).strftime('%Y-%m-%d %H-%M-%S')\n",
    "    print(date_from, date_to)\n",
    "\n",
    "    # Write into csv\n",
    "    chunk_df.to_csv(f\"{path}/{date_from}{sep_char}{date_to}.csv\", header=True, index=False)\n",
    "    \n"
   ]
  },
  {
   "cell_type": "markdown",
   "metadata": {},
   "source": [
    "# Visualizing the sentiment "
   ]
  },
  {
   "cell_type": "code",
   "execution_count": 17,
   "metadata": {},
   "outputs": [],
   "source": [
    "import matplotlib.pyplot as plt\n",
    "import seaborn as sns"
   ]
  },
  {
   "cell_type": "code",
   "execution_count": 21,
   "metadata": {},
   "outputs": [
    {
     "data": {
      "image/png": "[encoded data removed]",
      "text/plain": [
       "<Figure size 576x432 with 1 Axes>"
      ]
     },
     "metadata": {
      "needs_background": "light"
     },
     "output_type": "display_data"
    }
   ],
   "source": [
    "fig, ax = plt.subplots(figsize=(8, 6))\n",
    "\n",
    "# Plot histogram of the polarity values\n",
    "df_clean['compound'].hist(bins=[-1, -0.75, -0.5, -0.25, 0.25, 0.5, 0.75, 1],\n",
    "             ax=ax,\n",
    "             color=\"purple\")\n",
    "\n",
    "plt.title(\"Sentiments from Tweets on Cardano\")\n",
    "plt.show()"
   ]
  },
  {
   "cell_type": "markdown",
   "metadata": {},
   "source": [
    "To get a better visual of the polarit values, it can be helpful to remove the polarity values equal to zero and create a break in the histogram at zero."
   ]
  },
  {
   "cell_type": "code",
   "execution_count": 19,
   "metadata": {},
   "outputs": [],
   "source": [
    "# Remove polarity values equal to zero\n",
    "sentiment_df = df_clean[df_clean.score != 0]"
   ]
  },
  {
   "cell_type": "code",
   "execution_count": 22,
   "metadata": {},
   "outputs": [
    {
     "data": {
      "image/png": "[encoded data removed]",
      "text/plain": [
       "<Figure size 576x432 with 1 Axes>"
      ]
     },
     "metadata": {
      "needs_background": "light"
     },
     "output_type": "display_data"
    }
   ],
   "source": [
    "fig, ax = plt.subplots(figsize=(8, 6))\n",
    "\n",
    "# Plot histogram with break at zero\n",
    "sentiment_df['compound'].hist(bins=[-1, -0.75, -0.5, -0.25, 0.0, 0.25, 0.5, 0.75, 1],\n",
    "             ax=ax,\n",
    "             color=\"purple\")\n",
    "\n",
    "plt.title(\"Sentiments from Tweets on Cardano\")\n",
    "plt.show()"
   ]
  },
  {
   "cell_type": "markdown",
   "metadata": {},
   "source": [
    "This plot displays a revised histogram of compound values for tweets on dogecoin. For this histogram, compound values equal to zero have been removed, and a break has been added at zero, to better highlight the distribution of compound values."
   ]
  },
  {
   "cell_type": "code",
   "execution_count": null,
   "metadata": {},
   "outputs": [],
   "source": []
  }
 ],
 "metadata": {
  "kernelspec": {
   "display_name": "Python 3",
   "language": "python",
   "name": "python3"
  },
  "language_info": {
   "codemirror_mode": {
    "name": "ipython",
    "version": 3
   },
   "file_extension": ".py",
   "mimetype": "text/x-python",
   "name": "python",
   "nbconvert_exporter": "python",
   "pygments_lexer": "ipython3",
   "version": "3.7.4"
  }
 },
 "nbformat": 4,
 "nbformat_minor": 2
}
