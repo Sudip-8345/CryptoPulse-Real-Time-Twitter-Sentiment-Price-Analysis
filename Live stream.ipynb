{
 "cells": [
  {
   "cell_type": "markdown",
   "metadata": {},
   "source": [
    "# Live stream Dash GUI"
   ]
  },
  {
   "cell_type": "code",
   "execution_count": 10,
   "metadata": {},
   "outputs": [
    {
     "name": "stdout",
     "output_type": "stream",
     "text": [
      "Dash is running on http://127.0.0.1:8050/\n",
      "\n",
      "Dash is running on http://127.0.0.1:8050/\n",
      "\n",
      "Dash is running on http://127.0.0.1:8050/\n",
      "\n",
      "Dash is running on http://127.0.0.1:8050/\n",
      "\n",
      "Dash is running on http://127.0.0.1:8050/\n",
      "\n",
      "Dash is running on http://127.0.0.1:8050/\n",
      "\n",
      "Dash is running on http://127.0.0.1:8050/\n",
      "\n",
      "Dash is running on http://127.0.0.1:8050/\n",
      "\n",
      " * Serving Flask app \"__main__\" (lazy loading)\n",
      " * Environment: production\n",
      "   WARNING: This is a development server. Do not use it in a production deployment.\n",
      "   Use a production WSGI server instead.\n",
      " * Debug mode: on\n"
     ]
    }
   ],
   "source": [
    "import dash\n",
    "from dash.dependencies import Output, Input\n",
    "import dash_core_components as dcc\n",
    "import dash_html_components as html\n",
    "import plotly\n",
    "import random\n",
    "import plotly.graph_objs as go\n",
    "from collections import deque\n",
    "import sqlite3\n",
    "import pandas as pd\n",
    "\n",
    "#popular crypto: bitcoin, dogecoin, etc \n",
    "\n",
    "app = dash.Dash(__name__)\n",
    "app.layout = html.Div(\n",
    "    [   html.H2('Crypto Curruncy Live Twitter Sentiment'),\n",
    "        dcc.Graph(id='live-graph', animate=True),\n",
    "        dcc.Interval(\n",
    "            id='graph-update',\n",
    "            n_intervals=1*1000\n",
    "        ),\n",
    "    ]\n",
    ")\n",
    "\n",
    "@app.callback(Output('live-graph', 'figure'),\n",
    "              [Input('graph-update', 'n_intervals')])\n",
    "def update_graph_scatter(graph_update):\n",
    "    try:\n",
    "        conn = sqlite3.connect('twitter.db')\n",
    "        c = conn.cursor()\n",
    "        df = pd.read_sql(\"SELECT * FROM sentiment WHERE tweet LIKE '%#bitcoin%' ORDER BY unix DESC LIMIT 1000\", conn)\n",
    "        df.sort_values('unix', inplace=True)\n",
    "        df['sentiment_smoothed'] = df['sentiment'].rolling(int(len(df)/5)).mean()\n",
    "        df.dropna(inplace=True)\n",
    "\n",
    "        X = df.unix.values[-100:]\n",
    "        Y = df.sentiment_smoothed.values[-100:]\n",
    "\n",
    "        data = plotly.graph_objs.Scatter(\n",
    "                x=X,\n",
    "                y=Y,\n",
    "                name='Scatter',\n",
    "                mode= 'lines+markers'\n",
    "                )\n",
    "\n",
    "        return {'data': [data],'layout' : go.Layout(xaxis=dict(range=[min(X),max(X)]),\n",
    "                                                    yaxis=dict(range=[min(Y),max(Y)]),)}\n",
    "\n",
    "    except Exception as e:\n",
    "        with open('errors.txt','a') as f:\n",
    "            f.write(str(e))\n",
    "            f.write('\\n')\n",
    "\n",
    "\n",
    "if __name__ == '__main__':\n",
    "    app.run_server(debug=True,use_reloader=False)"
   ]
  },
  {
   "cell_type": "markdown",
   "metadata": {},
   "source": [
    "# Live Stream with some UI features"
   ]
  },
  {
   "cell_type": "code",
   "execution_count": 1,
   "metadata": {},
   "outputs": [
    {
     "name": "stdout",
     "output_type": "stream",
     "text": [
      "Dash is running on http://127.0.0.1:8050/\n",
      "\n",
      " * Serving Flask app \"__main__\" (lazy loading)\n",
      " * Environment: production\n",
      "   WARNING: This is a development server. Do not use it in a production deployment.\n",
      "   Use a production WSGI server instead.\n",
      " * Debug mode: on\n"
     ]
    }
   ],
   "source": [
    "import dash\n",
    "from dash.dependencies import Output, Input\n",
    "import dash_core_components as dcc\n",
    "import dash_html_components as html\n",
    "import plotly\n",
    "import random\n",
    "import plotly.graph_objs as go\n",
    "from collections import deque\n",
    "import sqlite3\n",
    "import pandas as pd\n",
    "\n",
    "#popular crypto: bitcoin, dogecoin, etc \n",
    "\n",
    "app = dash.Dash(__name__)\n",
    "app.layout = html.Div(\n",
    "    [   html.H2('Bitcoin Live Twitter Sentiment'),\n",
    "        dcc.Graph(id='live-graph', animate=False),\n",
    "        dcc.Interval(\n",
    "            id='graph-update',\n",
    "            n_intervals=1*1000\n",
    "        ),\n",
    "    ]\n",
    ")\n",
    "\n",
    "@app.callback(Output('live-graph', 'figure'),\n",
    "              [Input('graph-update', 'n_intervals')])\n",
    "def update_graph_scatter(graph_update):\n",
    "    try:\n",
    "        conn = sqlite3.connect('twitter.db')\n",
    "        c = conn.cursor()\n",
    "        df = pd.read_sql(\"SELECT * FROM sentiment WHERE tweet LIKE '%#bitcoin%' ORDER BY unix DESC LIMIT 1000\", conn)\n",
    "        df.sort_values('unix', inplace=True)\n",
    "        df['date'] = pd.to_datetime(df['unix'], unit='ms')\n",
    "        df.set_index('date', inplace = True)\n",
    "        df['sentiment_smoothed'] = df['sentiment'].rolling(int(len(df)/5)).mean()\n",
    "        df.dropna(inplace=True)\n",
    "        #df = df.resample('10s').mean()\n",
    "\n",
    "        X = df.index[-100:]\n",
    "        Y = df.sentiment_smoothed.values[-100:]\n",
    "\n",
    "        data = plotly.graph_objs.Scatter(\n",
    "                x=X,\n",
    "                y=Y,\n",
    "                name='Scatter',\n",
    "                mode= 'lines+markers'\n",
    "                )\n",
    "\n",
    "        return {'data': [data],'layout' : go.Layout(xaxis=dict(range=[min(X),max(X)]),\n",
    "                                                    yaxis=dict(range=[min(Y),max(Y)]),)}\n",
    "\n",
    "    except Exception as e:\n",
    "        with open('errors.txt','a') as f:\n",
    "            f.write(str(e))\n",
    "            f.write('\\n')\n",
    "\n",
    "\n",
    "if __name__ == '__main__':\n",
    "    app.run_server(debug=True,use_reloader=False)"
   ]
  },
  {
   "cell_type": "code",
   "execution_count": null,
   "metadata": {},
   "outputs": [],
   "source": []
  }
 ],
 "metadata": {
  "kernelspec": {
   "display_name": "Python 3",
   "language": "python",
   "name": "python3"
  },
  "language_info": {
   "codemirror_mode": {
    "name": "ipython",
    "version": 3
   },
   "file_extension": ".py",
   "mimetype": "text/x-python",
   "name": "python",
   "nbconvert_exporter": "python",
   "pygments_lexer": "ipython3",
   "version": "3.7.4"
  }
 },
 "nbformat": 4,
 "nbformat_minor": 2
}
